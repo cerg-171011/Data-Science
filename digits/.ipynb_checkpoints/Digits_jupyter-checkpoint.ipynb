{
 "cells": [
  {
   "cell_type": "code",
   "execution_count": null,
   "metadata": {},
   "outputs": [],
   "source": [
    "#В ДАННОЙ ПРОГРАММЕ РЕАЛИЗУЕТСЯ МОДУЛЬ SCIKIT LEARN КОТОРЫЙ В СВОЮ ОЧЕРЕДЬ \n",
    "#С ПОМОЩЬЮ ОБУЧЕННЫХ АЛГОРИТМОВ БУДЕТ ПЫТАТЬСЯ ПРЕДУГАДАТЬ ЦИФРЫ С РЕФЕРЕНСОВ "
   ]
  },
  {
   "cell_type": "code",
   "execution_count": 1,
   "metadata": {},
   "outputs": [],
   "source": [
    "import numpy as np\n",
    "import pandas as pd\n",
    "import matplotlib.pyplot as plt"
   ]
  },
  {
   "cell_type": "code",
   "execution_count": 2,
   "metadata": {},
   "outputs": [],
   "source": [
    "#ЗАГРУЗКА ВСЕХ НЕОБХОДИМЫХ АЛГОРИТОВ МО, ДАТАСЕТА \n",
    "\n",
    "from sklearn.svm import SVC\n",
    "from sklearn.tree import DecisionTreeClassifier\n",
    "from sklearn.neighbors import KNeighborsClassifier\n",
    "from sklearn.linear_model import RidgeCV\n",
    "from sklearn.metrics import accuracy_score\n",
    "from sklearn.model_selection import GridSearchCV\n",
    "from sklearn.ensemble import ExtraTreesRegressor\n",
    "from sklearn.datasets import load_digits"
   ]
  },
  {
   "cell_type": "code",
   "execution_count": 3,
   "metadata": {},
   "outputs": [
    {
     "data": {
      "text/plain": [
       "((1797, 64), (1797,))"
      ]
     },
     "execution_count": 3,
     "metadata": {},
     "output_type": "execute_result"
    }
   ],
   "source": [
    "im = load_digits()\n",
    "data = im.data\n",
    "target = im.target\n",
    "data.shape, target.shape\n"
   ]
  },
  {
   "cell_type": "code",
   "execution_count": 4,
   "metadata": {},
   "outputs": [
    {
     "data": {
      "text/plain": [
       "((1787, 64), (1787,), (10, 64), (10,))"
      ]
     },
     "execution_count": 4,
     "metadata": {},
     "output_type": "execute_result"
    }
   ],
   "source": [
    "#СОЗДАНИЕ ТЕСТОВОГО И ТРЕНИРОВОЧНОГО НАБОРОВ\n",
    "\n",
    "x_test, y_test, x_train, y_train = data[:-10], target[:-10], data[-10:], target[-10:]\n",
    "x_test.shape, y_test.shape, x_train.shape, y_train.shape"
   ]
  },
  {
   "cell_type": "code",
   "execution_count": 5,
   "metadata": {},
   "outputs": [],
   "source": [
    "#СОЗДАНИЕ СЛОВАРЯ ESTIMATORS КОТОРЫЙ СОЖЕРЖИТ В СЕБЕ КЛЮЧ - ИМЯ МОДЕЛИ ОБУЧЕНИЯ, ЗНАЧЕНИЕ - МОДЕЬ ОБУЧЕНИЯ\n",
    "\n",
    "ESTIMATORS = {\n",
    "    'SVC': SVC(gamma = 0.0001),\n",
    "    'Tree': DecisionTreeClassifier(),\n",
    "    'Neighbor': KNeighborsClassifier(),\n",
    "    'Ridge': RidgeCV(),\n",
    "    'tree_regressor': ExtraTreesRegressor()\n",
    "}\n"
   ]
  },
  {
   "cell_type": "code",
   "execution_count": 10,
   "metadata": {},
   "outputs": [],
   "source": [
    "#ОБУЧЕНИЕ МОДЕЛЕЙ ТЕСТОВЫМ НАБОРОМ \n",
    "\n",
    "name_dict = []\n",
    "for name, est in ESTIMATORS.items():\n",
    "    est.fit(x_test, y_test)\n",
    "    name_dict.append(name)\n",
    "\n",
    "#ДЕЛАЕМ ПРОГНОЗ НА ТРЕНИРОВОЧНОМ НАБОРЕ, РЕЗУЛЬТАТ СОХРАНЯЕМ В СЛОВАРЬ y_pred\n",
    "y_pred = dict()\n",
    "for name, est in ESTIMATORS.items():\n",
    "    y_pred[name] = est.predict(x_train)"
   ]
  },
  {
   "cell_type": "code",
   "execution_count": 7,
   "metadata": {},
   "outputs": [
    {
     "data": {
      "text/html": [
       "<div>\n",
       "<style scoped>\n",
       "    .dataframe tbody tr th:only-of-type {\n",
       "        vertical-align: middle;\n",
       "    }\n",
       "\n",
       "    .dataframe tbody tr th {\n",
       "        vertical-align: top;\n",
       "    }\n",
       "\n",
       "    .dataframe thead th {\n",
       "        text-align: right;\n",
       "    }\n",
       "</style>\n",
       "<table border=\"1\" class=\"dataframe\">\n",
       "  <thead>\n",
       "    <tr style=\"text-align: right;\">\n",
       "      <th></th>\n",
       "      <th>SVC</th>\n",
       "      <th>Tree</th>\n",
       "      <th>Neighbor</th>\n",
       "      <th>Ridge</th>\n",
       "      <th>tree_regressor</th>\n",
       "    </tr>\n",
       "  </thead>\n",
       "  <tbody>\n",
       "    <tr>\n",
       "      <th>0</th>\n",
       "      <td>5</td>\n",
       "      <td>3</td>\n",
       "      <td>5</td>\n",
       "      <td>7.012530</td>\n",
       "      <td>5.23</td>\n",
       "    </tr>\n",
       "    <tr>\n",
       "      <th>1</th>\n",
       "      <td>4</td>\n",
       "      <td>4</td>\n",
       "      <td>4</td>\n",
       "      <td>2.764206</td>\n",
       "      <td>4.02</td>\n",
       "    </tr>\n",
       "    <tr>\n",
       "      <th>2</th>\n",
       "      <td>8</td>\n",
       "      <td>8</td>\n",
       "      <td>8</td>\n",
       "      <td>4.023941</td>\n",
       "      <td>4.99</td>\n",
       "    </tr>\n",
       "    <tr>\n",
       "      <th>3</th>\n",
       "      <td>1</td>\n",
       "      <td>1</td>\n",
       "      <td>8</td>\n",
       "      <td>3.912455</td>\n",
       "      <td>3.98</td>\n",
       "    </tr>\n",
       "    <tr>\n",
       "      <th>4</th>\n",
       "      <td>4</td>\n",
       "      <td>4</td>\n",
       "      <td>4</td>\n",
       "      <td>4.445954</td>\n",
       "      <td>4.04</td>\n",
       "    </tr>\n",
       "  </tbody>\n",
       "</table>\n",
       "</div>"
      ],
      "text/plain": [
       "   SVC  Tree  Neighbor     Ridge  tree_regressor\n",
       "0    5     3         5  7.012530            5.23\n",
       "1    4     4         4  2.764206            4.02\n",
       "2    8     8         8  4.023941            4.99\n",
       "3    1     1         8  3.912455            3.98\n",
       "4    4     4         4  4.445954            4.04"
      ]
     },
     "execution_count": 7,
     "metadata": {},
     "output_type": "execute_result"
    }
   ],
   "source": [
    "data_pd = pd.DataFrame(y_pred, columns = name_dict)\n",
    "data_pd.head()"
   ]
  },
  {
   "cell_type": "code",
   "execution_count": 8,
   "metadata": {},
   "outputs": [
    {
     "name": "stderr",
     "output_type": "stream",
     "text": [
      "/usr/lib/python3/dist-packages/ipykernel_launcher.py:12: MatplotlibDeprecationWarning: Adding an axes using the same arguments as a previous axes currently reuses the earlier instance.  In a future version, a new instance will always be created and returned.  Meanwhile, this warning can be suppressed, and the future behavior ensured, by passing a unique label to each axes instance.\n",
      "  if sys.path[0] == '':\n"
     ]
    },
    {
     "data": {
      "image/png": "[encoded data removed]",
      "text/plain": [
       "<Figure size 432x288 with 25 Axes>"
      ]
     },
     "metadata": {},
     "output_type": "display_data"
    }
   ],
   "source": [
    "#ОТРИСОВКА ПОЛУЧЕННЫХ РЕЗУЛЬТАТОВ.\n",
    "\n",
    "#ПЕРВАЯ КОЛОННА ИЗОБРАЖЕНИЙ - ИСТИННЫЕ ИЗОБРАЖЕНИЯ(true_digits)\n",
    "#КАЖДАЯ ПОСЛЕДУЮЩАЯ КОЛОННА ЭТО РЕЗУЛЬТАТ ПРОГНОЗИРОВАНИЯ КАЖДЫМ ОТДЕЛЬНЫМ АЛГОРИТМОМ МО \n",
    "#НАД КАЖДОЙ КОЛОННОЙ НАПИСАНО НАЗВАНИЕ АЛГОРИТМА МО КОТОРЫЙ И ПРЕДСКАЗЫВАЕТ ЗНАЧЕНИЯ УКАЗАННЫЕ В КОЛОННЕ НИЖЕ \n",
    "#ТАК ЖЕ НАД КАЖДЫМ ИЗОБРАЖЕНИЕМ ,НЕ СЧИТАЯ ПЕРВЫЙ РЯД ЗНАЧЕНИЙ, УКАЗАНЫ ЦИФРЫ (1ЫЙ РЯД - ИСТИННЫЕ ЗНАЧЕНИЯ,\n",
    "#КАЖДЫЙ ПОСЛЕДУЮЩИЙ РЯД - ЭТО ПРОГНОЗ КАЖДЫЙ ОТЕЛЬНЫМ АЛГОРИТМОМ) КОТОРЫЕ ЯВЛЯЮТСЯ ЗНАЧЕНИЯМИ КОТОРЫЕ УКАЗАНЫ \n",
    "#НА ИЗОБРАЖЕНИЯХ ИЛИ ЖЕ ПРОГНОЗ АЛГОРИТМОВ\n",
    "\n",
    "for i in range(5):\n",
    "    if i:\n",
    "        sub = plt.subplot(5,5, i * 5 +1, title = y_train[i])\n",
    "        sub.axis('off')\n",
    "        sub.imshow(x_train[i].reshape(8,8), cmap = plt.cm.gray)\n",
    "    else:\n",
    "        sub = plt.subplot(5,5, i * 5 +1, title = 'true_digit')\n",
    "        sub.axis('off')\n",
    "        sub.imshow(x_train[i].reshape(8,8), cmap = plt.cm.gray)\n",
    "    for j, est in enumerate(ESTIMATORS):\n",
    "        if i:\n",
    "            sub = plt.subplot(5,5,i*5+1+j, title = int(np.ceil(y_pred[est][i])))\n",
    "            plt.axis('off')\n",
    "            sub.imshow(x_train[i].reshape(8,8), cmap = plt.cm.gray)\n",
    "        else:\n",
    "            sub = plt.subplot(5,5,i*5+1+j, title = est)\n",
    "            plt.axis('off')\n",
    "            sub.imshow(x_train[i].reshape(8,8), cmap = plt.cm.gray)\n",
    "          "
   ]
  },
  {
   "cell_type": "code",
   "execution_count": null,
   "metadata": {},
   "outputs": [],
   "source": []
  },
  {
   "cell_type": "code",
   "execution_count": null,
   "metadata": {},
   "outputs": [],
   "source": []
  }
 ],
 "metadata": {
  "kernelspec": {
   "display_name": "Python 3",
   "language": "python",
   "name": "python3"
  },
  "language_info": {
   "codemirror_mode": {
    "name": "ipython",
    "version": 3
   },
   "file_extension": ".py",
   "mimetype": "text/x-python",
   "name": "python",
   "nbconvert_exporter": "python",
   "pygments_lexer": "ipython3",
   "version": "3.6.9"
  }
 },
 "nbformat": 4,
 "nbformat_minor": 2
}
